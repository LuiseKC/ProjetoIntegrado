{
  "nbformat": 4,
  "nbformat_minor": 0,
  "metadata": {
    "colab": {
      "provenance": []
    },
    "kernelspec": {
      "name": "python3",
      "display_name": "Python 3"
    },
    "language_info": {
      "name": "python"
    }
  },
  "cells": [
    {
      "cell_type": "code",
      "execution_count": null,
      "metadata": {
        "id": "4BL4wjQXT8gA"
      },
      "outputs": [],
      "source": [
        "import pandas as pd\n",
        "import numpy as np\n",
        "import statistics\n",
        "import seaborn as sns"
      ]
    },
    {
      "cell_type": "code",
      "source": [
        "# Ler base de dados\n",
        "dataset = pd.read_excel(r'/content/Data_S1.xls')\n",
        "dataset.info()"
      ],
      "metadata": {
        "id": "NfB_7V-3UD73"
      },
      "execution_count": null,
      "outputs": []
    },
    {
      "cell_type": "code",
      "source": [
        "# Remover colunas que não serão utilizadas \n",
        "dataset = dataset.drop([\"Patientnumber\"], axis=1)\n",
        "dataset = dataset.drop([\"Hospital \"], axis=1)\n",
        "dataset = dataset.drop([\"Arrival date\"], axis=1)\n",
        "dataset = dataset.drop([\"Hospitalisation\"], axis=1)\n",
        "dataset = dataset.drop([\"Original MTS\"], axis=1)"
      ],
      "metadata": {
        "id": "IKYg42miXdeR"
      },
      "execution_count": null,
      "outputs": []
    },
    {
      "cell_type": "code",
      "source": [
        "# Remover idades ausente \n",
        "dataset['Age'].replace('', np.nan, inplace=True)\n",
        "dataset.dropna(subset=['Age'], inplace=True)"
      ],
      "metadata": {
        "id": "sz2zkuvJIUD-"
      },
      "execution_count": null,
      "outputs": []
    },
    {
      "cell_type": "code",
      "source": [
        "dataset.describe()"
      ],
      "metadata": {
        "id": "XFAL5ic6wPVc"
      },
      "execution_count": null,
      "outputs": []
    },
    {
      "cell_type": "code",
      "source": [
        "# Outliers"
      ],
      "metadata": {
        "id": "lo-dkYjrQgjs"
      },
      "execution_count": null,
      "outputs": []
    },
    {
      "cell_type": "code",
      "source": [
        "sns.boxplot(x=dataset[\"Respiratory rate\"]);"
      ],
      "metadata": {
        "id": "OrpaNZe2QpDG"
      },
      "execution_count": null,
      "outputs": []
    },
    {
      "cell_type": "code",
      "source": [
        "sns.boxplot(x=dataset[\"Heart rate\"]);"
      ],
      "metadata": {
        "id": "Wce9XnN3QquK"
      },
      "execution_count": null,
      "outputs": []
    },
    {
      "cell_type": "code",
      "source": [
        "sns.boxplot(x=dataset[\"Oxygen saturation\"]);"
      ],
      "metadata": {
        "id": "TnSMejwwsKNn"
      },
      "execution_count": null,
      "outputs": []
    },
    {
      "cell_type": "code",
      "source": [
        "sns.boxplot(x=dataset[\"Temperature\"]);"
      ],
      "metadata": {
        "id": "N5OJGssHQqYA"
      },
      "execution_count": null,
      "outputs": []
    },
    {
      "cell_type": "code",
      "source": [
        "# Deletar outliers\n",
        "dataset = dataset.drop(dataset[dataset['Temperature'] < 35].index)\n",
        "dataset = dataset.drop(dataset[dataset['Temperature'] > 39].index)\n",
        "\n",
        "dataset = dataset.drop(dataset[dataset['Heart rate'] < 44].index)\n",
        "dataset = dataset.drop(dataset[dataset['Heart rate'] > 195].index)\n",
        "\n",
        "dataset = dataset.drop(dataset[dataset['Oxygen saturation'] < 95].index)\n",
        "\n",
        "dataset = dataset.drop(dataset[dataset['Respiratory rate'] < 1].index)\n",
        "dataset = dataset.drop(dataset[dataset['Respiratory rate'] > 47].index)"
      ],
      "metadata": {
        "id": "GXAGr_sNshd_"
      },
      "execution_count": null,
      "outputs": []
    },
    {
      "cell_type": "code",
      "source": [
        "len(dataset0)"
      ],
      "metadata": {
        "id": "VTQtK3PBtA6H"
      },
      "execution_count": null,
      "outputs": []
    },
    {
      "cell_type": "code",
      "source": [
        "# Separar as bases por MTS\n",
        "dataset0 = dataset.loc[dataset['MTS 1'] == 'Non urgent'] \n",
        "dataset1 = dataset.loc[dataset['MTS 1'] == 'Standard'] \n",
        "dataset2 = dataset.loc[dataset['MTS 1'] == 'Urgent'] \n",
        "dataset3 = dataset.loc[dataset['MTS 1'] == 'Very urgent'] \n",
        "dataset4 = dataset.loc[dataset['MTS 1'] == 'Emergent']"
      ],
      "metadata": {
        "id": "PYKotfZI_0VI"
      },
      "execution_count": null,
      "outputs": []
    },
    {
      "cell_type": "code",
      "source": [
        "# Pegar media para colocar nos dados faltantes\n",
        "def colocarMedia(dados):\n",
        "    media_tempetaruta = dados['Temperature'].loc[dados['Temperature'] != 0].mean()\n",
        "    media_oxygen = dados['Oxygen saturation'].loc[dados['Oxygen saturation'] != 0].mean()\n",
        "    media_heart = dados['Heart rate'].loc[dados['Heart rate'] != 0].mean()\n",
        "    media_respiratory = dados['Respiratory rate'].loc[dados['Respiratory rate'] != 0].mean()\n",
        "\n",
        "    dados['Temperature'].replace(np.nan, media_tempetaruta, inplace=True)\n",
        "    dados['Oxygen saturation'].replace(np.nan, media_oxygen, inplace=True)\n",
        "    dados['Heart rate'].replace(np.nan, media_heart, inplace=True)\n",
        "    dados['Respiratory rate'].replace(np.nan, media_respiratory, inplace=True)\n",
        "\n",
        "colocarMedia(dataset0)\n",
        "colocarMedia(dataset1)\n",
        "colocarMedia(dataset2)\n",
        "colocarMedia(dataset3)\n",
        "colocarMedia(dataset4)\n",
        "    "
      ],
      "metadata": {
        "id": "E6d3UoYtAT5W"
      },
      "execution_count": null,
      "outputs": []
    },
    {
      "cell_type": "code",
      "source": [
        "df_list = [dataset0, dataset1, dataset2, dataset3, dataset4]\n",
        "dataset = pd.concat(df_list)\n",
        "dataset = dataset.sample(frac=1)"
      ],
      "metadata": {
        "id": "UFFPuTz1wrrR"
      },
      "execution_count": null,
      "outputs": []
    },
    {
      "cell_type": "code",
      "source": [
        "dataset.describe()"
      ],
      "metadata": {
        "id": "NmMpKayX-AtM"
      },
      "execution_count": null,
      "outputs": []
    },
    {
      "cell_type": "code",
      "source": [
        "import matplotlib.pyplot as plt\n",
        "plt.scatter(dataset['MTS 1'], dataset['Temperature'])\n",
        "plt.ylabel('Temperature')"
      ],
      "metadata": {
        "id": "bkCWN3pd-exM"
      },
      "execution_count": null,
      "outputs": []
    },
    {
      "cell_type": "code",
      "source": [
        "plt.scatter(dataset['MTS 1'], dataset['Oxygen saturation'])\n",
        "plt.ylabel('Oxygen saturation')"
      ],
      "metadata": {
        "id": "kCWjcOC5-2do"
      },
      "execution_count": null,
      "outputs": []
    },
    {
      "cell_type": "code",
      "source": [
        "plt.scatter(dataset['MTS 1'], dataset['Heart rate'])\n",
        "plt.ylabel('Heart rate')"
      ],
      "metadata": {
        "id": "BFGZLvKY-2Qj"
      },
      "execution_count": null,
      "outputs": []
    },
    {
      "cell_type": "code",
      "source": [
        "plt.scatter(dataset['MTS 1'], dataset['Respiratory rate'])\n",
        "plt.ylabel('Respiratory rate')"
      ],
      "metadata": {
        "id": "b-ixlntN-136"
      },
      "execution_count": null,
      "outputs": []
    },
    {
      "cell_type": "code",
      "source": [
        "plt.scatter(dataset['MTS 1'], dataset['Presenting problem'])\n",
        "plt.ylabel('Presenting problem')"
      ],
      "metadata": {
        "id": "DItmHH95f_MW"
      },
      "execution_count": null,
      "outputs": []
    },
    {
      "cell_type": "code",
      "source": [
        "dataset"
      ],
      "metadata": {
        "id": "d5GBWPOJs_k1"
      },
      "execution_count": null,
      "outputs": []
    },
    {
      "cell_type": "code",
      "source": [
        "dataset0['Presenting problem'].hist()"
      ],
      "metadata": {
        "id": "pH5h1Mbm7GG9"
      },
      "execution_count": null,
      "outputs": []
    },
    {
      "cell_type": "code",
      "source": [
        "dataset0['Temperature'].hist()"
      ],
      "metadata": {
        "id": "3wyDEQdE37Lq"
      },
      "execution_count": null,
      "outputs": []
    },
    {
      "cell_type": "code",
      "source": [
        "dataset1['Temperature'].hist()"
      ],
      "metadata": {
        "id": "gM3bL-8C5LAY"
      },
      "execution_count": null,
      "outputs": []
    },
    {
      "cell_type": "code",
      "source": [
        "dataset2['Temperature'].hist()"
      ],
      "metadata": {
        "id": "G6zGvU0x5Mmg"
      },
      "execution_count": null,
      "outputs": []
    },
    {
      "cell_type": "code",
      "source": [
        "dataset3['Temperature'].hist()"
      ],
      "metadata": {
        "id": "Dm9we_1N5OOk"
      },
      "execution_count": null,
      "outputs": []
    },
    {
      "cell_type": "code",
      "source": [
        "dataset4['Temperature'].hist()"
      ],
      "metadata": {
        "id": "BOrLOLwi5QTt"
      },
      "execution_count": null,
      "outputs": []
    },
    {
      "cell_type": "code",
      "source": [
        "dataset0['Respiratory rate'].hist()"
      ],
      "metadata": {
        "id": "-vz10HZL5b__"
      },
      "execution_count": null,
      "outputs": []
    },
    {
      "cell_type": "code",
      "source": [
        "dataset1['Respiratory rate'].hist()"
      ],
      "metadata": {
        "id": "WmL0fReb5fcK"
      },
      "execution_count": null,
      "outputs": []
    },
    {
      "cell_type": "code",
      "source": [
        "dataset2['Respiratory rate'].hist()"
      ],
      "metadata": {
        "id": "4KlfXBWU5fWG"
      },
      "execution_count": null,
      "outputs": []
    },
    {
      "cell_type": "code",
      "source": [
        "dataset3['Respiratory rate'].hist()"
      ],
      "metadata": {
        "id": "rhdocpcN5fOY"
      },
      "execution_count": null,
      "outputs": []
    },
    {
      "cell_type": "code",
      "source": [
        "dataset4['Respiratory rate'].hist()"
      ],
      "metadata": {
        "id": "fTipiVKx5o1E"
      },
      "execution_count": null,
      "outputs": []
    },
    {
      "cell_type": "code",
      "source": [
        "dataset0['Heart rate'].hist()"
      ],
      "metadata": {
        "id": "cy68WOZG5u5K"
      },
      "execution_count": null,
      "outputs": []
    },
    {
      "cell_type": "code",
      "source": [
        "dataset1['Heart rate'].hist()"
      ],
      "metadata": {
        "id": "GTKv_FPy5xJ-"
      },
      "execution_count": null,
      "outputs": []
    },
    {
      "cell_type": "code",
      "source": [
        "dataset2['Heart rate'].hist()"
      ],
      "metadata": {
        "id": "ZVNUQqCy5xHV"
      },
      "execution_count": null,
      "outputs": []
    },
    {
      "cell_type": "code",
      "source": [
        "dataset3['Heart rate'].hist()"
      ],
      "metadata": {
        "id": "9Uk4H9NP5xEm"
      },
      "execution_count": null,
      "outputs": []
    },
    {
      "cell_type": "code",
      "source": [
        "dataset4['Heart rate'].hist()"
      ],
      "metadata": {
        "id": "FL1Pr7jP5xB4"
      },
      "execution_count": null,
      "outputs": []
    },
    {
      "cell_type": "code",
      "source": [
        "dataset0['Oxygen saturation'].hist()"
      ],
      "metadata": {
        "id": "iE4mzTzf51k_"
      },
      "execution_count": null,
      "outputs": []
    },
    {
      "cell_type": "code",
      "source": [
        "dataset1['Oxygen saturation'].hist()"
      ],
      "metadata": {
        "id": "5JF1cQm355KB"
      },
      "execution_count": null,
      "outputs": []
    },
    {
      "cell_type": "code",
      "source": [
        "dataset2['Oxygen saturation'].hist()"
      ],
      "metadata": {
        "id": "QJxVEk-U55Dr"
      },
      "execution_count": null,
      "outputs": []
    },
    {
      "cell_type": "code",
      "source": [
        "dataset3['Oxygen saturation'].hist()"
      ],
      "metadata": {
        "id": "lVq_I7aG549g"
      },
      "execution_count": null,
      "outputs": []
    },
    {
      "cell_type": "code",
      "source": [
        "dataset4['Oxygen saturation'].hist()"
      ],
      "metadata": {
        "id": "hOUeQZB7543t"
      },
      "execution_count": null,
      "outputs": []
    },
    {
      "cell_type": "code",
      "source": [
        "# Passar para numerico\n",
        "\n",
        "totalPositiveDiscriminator = dataset['Positive discriminator'].unique()\n",
        "count = 0\n",
        "for item in totalPositiveDiscriminator:\n",
        "    dataset['Positive discriminator'].replace(item, count, inplace=True)\n",
        "    count = count + 1\n",
        "\n",
        "dataset['MTS 1'].replace('Non urgent', 0, inplace=True)\n",
        "dataset['MTS 1'].replace('Standard', 1, inplace=True)\n",
        "dataset['MTS 1'].replace('Urgent', 2, inplace=True)\n",
        "dataset['MTS 1'].replace('Very urgent', 3, inplace=True)\n",
        "dataset['MTS 1'].replace('Emergent', 4, inplace=True)\n",
        "\n",
        "dataset['Presenting problem'].replace('Other problems', 0, inplace=True)\n",
        "dataset['Presenting problem'].replace('Gastro-intestinal', 1, inplace=True)\n",
        "dataset['Presenting problem'].replace('Urinary tract problems', 2, inplace=True)\n",
        "dataset['Presenting problem'].replace('Trauma', 3, inplace=True)\n",
        "dataset['Presenting problem'].replace('Ear, nose, throat', 4, inplace=True)\n",
        "dataset['Presenting problem'].replace('Wounds', 5, inplace=True)\n",
        "dataset['Presenting problem'].replace('Fever without source', 6, inplace=True)\n",
        "dataset['Presenting problem'].replace('Neurological', 7, inplace=True)\n",
        "dataset['Presenting problem'].replace('Dyspnea', 8, inplace=True)\n",
        "dataset['Presenting problem'].replace('Rash', 9, inplace=True)\n",
        "dataset['Presenting problem'].replace('local infection/abscess', 10, inplace=True)"
      ],
      "metadata": {
        "id": "P4INmfPFvqM7"
      },
      "execution_count": null,
      "outputs": []
    },
    {
      "cell_type": "code",
      "source": [
        "dataset"
      ],
      "metadata": {
        "id": "-o2xIR8Kx5Uv"
      },
      "execution_count": null,
      "outputs": []
    },
    {
      "cell_type": "code",
      "source": [
        "from sklearn.model_selection import train_test_split\n",
        "from tensorflow.keras.optimizers import Adam\n",
        "from tensorflow.keras import datasets, Sequential\n",
        "from tensorflow.keras.layers import Flatten, Dense, Dropout\n",
        "from tensorflow.keras.models import load_model\n",
        "from tensorflow.nn import relu, softmax"
      ],
      "metadata": {
        "id": "VdPhamTP_GHX"
      },
      "execution_count": null,
      "outputs": []
    },
    {
      "cell_type": "code",
      "source": [
        "def plot_acc(callback):\n",
        "  plt.plot(callback.history['accuracy'])\n",
        "  plt.plot(callback.history['val_accuracy'])\n",
        "  plt.title('Acurácia por épocas')\n",
        "  plt.xlabel('épocas')\n",
        "  plt.ylabel('acurácia')\n",
        "  plt.legend(['treino', 'validação'])\n",
        "\n",
        "def plot_loss(callback):\n",
        "  plt.plot(callback.history['loss'])\n",
        "  plt.plot(callback.history['val_loss'])\n",
        "  plt.title('Perda por épocas')\n",
        "  plt.xlabel('épocas')\n",
        "  plt.ylabel('perda')\n",
        "  plt.legend(['treino', 'validação'])"
      ],
      "metadata": {
        "id": "u1E4MP952Q5c"
      },
      "execution_count": null,
      "outputs": []
    },
    {
      "cell_type": "code",
      "source": [
        "dataset.loc[dataset['MTS 1'] == 0]"
      ],
      "metadata": {
        "id": "aPc5Ua9oCahw"
      },
      "execution_count": null,
      "outputs": []
    },
    {
      "cell_type": "code",
      "source": [
        "x = dataset.iloc[:,[0, 1, 2, 3, 4, 6, 7]].values\n",
        "y = dataset.iloc[:,5].values"
      ],
      "metadata": {
        "id": "0-7sEE9uUN3P"
      },
      "execution_count": null,
      "outputs": []
    },
    {
      "cell_type": "code",
      "source": [
        "from imblearn.over_sampling import RandomOverSampler, SMOTE\n",
        "smote = SMOTE(random_state = 32)\n",
        "X_smote_res, y_smote_res = smote.fit_resample(x, y)"
      ],
      "metadata": {
        "id": "eUrS5HjaUB80"
      },
      "execution_count": null,
      "outputs": []
    },
    {
      "cell_type": "code",
      "source": [
        "from sklearn.model_selection import train_test_split\n",
        "x_train,x_test,y_train,y_test = train_test_split(X_smote_res,y_smote_res,test_size = 0.3)"
      ],
      "metadata": {
        "id": "H6tZiJhNULGw"
      },
      "execution_count": null,
      "outputs": []
    },
    {
      "cell_type": "code",
      "source": [
        "model = Sequential([  \n",
        "    Dense(7, activation=relu), \n",
        "    Dropout(0.2),\n",
        "    Dense(64, activation=relu),\n",
        "    Dropout(0.2),\n",
        "    Dense(16, activation=relu),\n",
        "    Dropout(0.2),\n",
        "    Dense(5, activation=softmax)\n",
        "])\n",
        "\n",
        "model.compile(optimizer=Adam(learning_rate=0.002),\n",
        "               loss='sparse_categorical_crossentropy',\n",
        "               metrics=['accuracy'])\n",
        "\n",
        "callback = model.fit(x_train, y_train, epochs=20, validation_split=0.2, batch_size=32)\n",
        "\n",
        "loss_test, acc_test = model.evaluate(x_test, y_test)\n",
        "print('Perda do teste:', loss_test)\n",
        "print('Acurácia do teste:', acc_test)"
      ],
      "metadata": {
        "id": "bU2x1nlSUck9"
      },
      "execution_count": null,
      "outputs": []
    },
    {
      "cell_type": "code",
      "source": [
        "tests = model.predict(x_test)\n",
        "\n",
        "numLoop = len(tests)\n",
        "acerto = 0\n",
        "erro = 0\n",
        "for index in range(numLoop):\n",
        "    if np.argmax(tests[index]) ==  y_test[index]:\n",
        "        acerto = acerto + 1\n",
        "    else:\n",
        "        erro = erro + 1\n",
        "\n",
        "print('acerto', acerto)\n",
        "print('erro', erro)\n",
        "print()\n",
        "acerto_non_urgent = 0\n",
        "erro_non_urgent = 0\n",
        "erro_non_urgent_Standard = 0\n",
        "erro_non_urgent_Urgent = 0\n",
        "erro_non_urgent_VeryUrgent = 0\n",
        "erro_non_urgent_Emergent = 0\n",
        "\n",
        "acerto_standard = 0\n",
        "erro_standard = 0\n",
        "erro_standard_NonUrgent = 0\n",
        "erro_standard_Urgent = 0\n",
        "erro_standard_VeryUrgent = 0\n",
        "erro_standard_Emergent = 0\n",
        "\n",
        "acerto_urgent = 0\n",
        "erro_urgent = 0\n",
        "erro_urgent_NonUrgent = 0\n",
        "erro_urgent_Standard = 0\n",
        "erro_urgent_VeryUrgent = 0\n",
        "erro_urgent_Emergent = 0\n",
        "\n",
        "acerto_very_urgent = 0\n",
        "erro_very_urgent = 0\n",
        "erro_very_urgent_NonUrgent = 0\n",
        "erro_very_urgent_Standard = 0\n",
        "erro_very_urgent_Urgent = 0\n",
        "erro_very_urgent_Emergent = 0\n",
        "\n",
        "acerto_emergent = 0\n",
        "erro_emergent = 0\n",
        "erro_emergent_NonUrgent = 0\n",
        "erro_emergent_Standard = 0\n",
        "erro_emergent_Urgent = 0\n",
        "erro_emergent_VeryUrgent = 0\n",
        "\n",
        "\n",
        "\n",
        "for index in range(numLoop): # 17643 \n",
        "    if np.argmax(tests[index]) == 0:\n",
        "        if y_test[index] ==  0:\n",
        "            acerto_non_urgent = acerto_non_urgent + 1\n",
        "        if y_test[index] ==  1:\n",
        "            erro_non_urgent_Standard = erro_non_urgent_Standard + 1\n",
        "        if y_test[index] ==  2:\n",
        "            erro_non_urgent_Urgent = erro_non_urgent_Urgent + 1\n",
        "        if y_test[index] ==  3:\n",
        "            erro_non_urgent_VeryUrgent = erro_non_urgent_VeryUrgent + 1\n",
        "        if y_test[index] ==  4:\n",
        "            erro_non_urgent_Emergent = erro_non_urgent_Emergent + 1\n",
        "    if np.argmax(tests[index]) == 1:\n",
        "        if y_test[index] ==  1:\n",
        "            acerto_standard = acerto_standard + 1\n",
        "        if y_test[index] ==  0:\n",
        "            erro_standard_NonUrgent = erro_standard_NonUrgent + 1\n",
        "        if y_test[index] ==  2:\n",
        "            erro_standard_Urgent = erro_standard_Urgent + 1\n",
        "        if y_test[index] ==  3:\n",
        "            erro_standard_VeryUrgent = erro_standard_VeryUrgent + 1\n",
        "        if y_test[index] ==  4:\n",
        "            erro_standard_Emergent = erro_standard_Emergent + 1\n",
        "    if np.argmax(tests[index]) == 2:\n",
        "        if y_test[index] ==  2:\n",
        "            acerto_urgent = acerto_urgent + 1\n",
        "        if y_test[index] ==  0:\n",
        "            erro_urgent_NonUrgent = erro_urgent_NonUrgent + 1\n",
        "        if y_test[index] ==  1:\n",
        "            erro_urgent_Standard = erro_urgent_Standard + 1\n",
        "        if y_test[index] ==  3:\n",
        "            erro_urgent_VeryUrgent = erro_urgent_VeryUrgent + 1\n",
        "        if y_test[index] ==  4:\n",
        "            erro_urgent_Emergent = erro_urgent_Emergent + 1\n",
        "    if np.argmax(tests[index]) == 3:\n",
        "        if y_test[index] ==  3:\n",
        "            acerto_very_urgent = acerto_very_urgent + 1\n",
        "        if y_test[index] ==  0:\n",
        "            erro_very_urgent_NonUrgent = erro_very_urgent_NonUrgent + 1\n",
        "        if y_test[index] ==  1:\n",
        "            erro_very_urgent_Standard = erro_very_urgent_Standard + 1\n",
        "        if y_test[index] ==  2:\n",
        "            erro_very_urgent_Urgent = erro_very_urgent_Urgent + 1\n",
        "        if y_test[index] ==  4:\n",
        "            erro_very_urgent_Emergent = erro_very_urgent_Emergent + 1\n",
        "    if np.argmax(tests[index]) == 4:\n",
        "        if y_test[index] ==  4:\n",
        "            acerto_emergent = acerto_emergent + 1\n",
        "        if y_test[index] ==  0:\n",
        "            erro_emergent_NonUrgent = erro_emergent_NonUrgent + 1\n",
        "        if y_test[index] ==  1:\n",
        "            erro_emergent_Standard = erro_emergent_Standard + 1\n",
        "        if y_test[index] ==  2:\n",
        "            erro_emergent_Urgent = erro_emergent_Urgent + 1\n",
        "        if y_test[index] ==  3:\n",
        "            erro_emergent_VeryUrgent = erro_emergent_VeryUrgent + 1\n",
        "               \n",
        "\n",
        "print('acerto_non_urgent', acerto_non_urgent)\n",
        "print('erro_non_urgent_Standard', erro_non_urgent_Standard)\n",
        "print('erro_non_urgent_Urgent', erro_non_urgent_Urgent)\n",
        "print('erro_non_urgent_VeryUrgent', erro_non_urgent_VeryUrgent)\n",
        "print('erro_non_urgent_Emergent', erro_non_urgent_Emergent)\n",
        "print()\n",
        "print('acerto_standard', acerto_standard)\n",
        "print('erro_standard_NonUrgent', erro_standard_NonUrgent)\n",
        "print('erro_standard_Urgent', erro_standard_Urgent)\n",
        "print('erro_standard_VeryUrgent', erro_standard_VeryUrgent)\n",
        "print('erro_standard_Emergent', erro_standard_Emergent)\n",
        "print()\n",
        "print('acerto_urgent', acerto_urgent)\n",
        "print('erro_urgent_NonUrgent', erro_urgent_NonUrgent)\n",
        "print('erro_urgent_Standard', erro_urgent_Standard)\n",
        "print('erro_urgent_VeryUrgent', erro_urgent_VeryUrgent)\n",
        "print('erro_urgent_Emergent', erro_urgent_Emergent)\n",
        "print()\n",
        "print('acerto_very_urgent', acerto_very_urgent)\n",
        "print('erro_very_urgent_NonUrgent', erro_very_urgent_NonUrgent)\n",
        "print('erro_very_urgent_Standard', erro_very_urgent_Standard)\n",
        "print('erro_very_urgent_Urgent', erro_very_urgent_Urgent)\n",
        "print('erro_very_urgent_Emergent', erro_very_urgent_Emergent)\n",
        "print()\n",
        "print('acerto_emergent', acerto_emergent)\n",
        "print('erro_emergent_NonUrgent', erro_emergent_NonUrgent)\n",
        "print('erro_emergent_Standard', erro_emergent_Standard)\n",
        "print('erro_emergent_Urgent', erro_emergent_Urgent)\n",
        "print('erro_emergent_VeryUrgent', erro_emergent_VeryUrgent)"
      ],
      "metadata": {
        "id": "hDd8aVwIhF84"
      },
      "execution_count": null,
      "outputs": []
    }
  ]
}